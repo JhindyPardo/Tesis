{
 "cells": [
  {
   "cell_type": "code",
   "execution_count": 5,
   "metadata": {},
   "outputs": [],
   "source": [
    "import pandas as pd\n",
    "from sklearn.model_selection import train_test_split\n",
    "from sklearn import metrics\n",
    "from sklearn.naive_bayes import GaussianNB\n",
    "\n",
    "dataset = pd.read_csv(\"Features unigrama.csv\", sep=\",\", low_memory=False)\n",
    "\n",
    "y = dataset.Label\n",
    "X = dataset.drop('Label', axis=1)\n",
    "X_train, X_test, y_train, y_test = train_test_split(X, y, test_size=0.3, random_state=42, stratify=y)\n"
   ]
  },
  {
   "cell_type": "code",
   "execution_count": 6,
   "metadata": {},
   "outputs": [],
   "source": [
    "X_train.to_csv (r'X_train_unigram.csv', index = False, header=True)\n",
    "X_test.to_csv (r'X_test_unigram.csv', index = False, header=True)\n",
    "y_train.to_csv (r'y_train_unigram.csv', index = False, header=True)\n",
    "y_test.to_csv (r'y_test_unigram.csv', index = False, header=True)"
   ]
  },
  {
   "cell_type": "code",
   "execution_count": 7,
   "metadata": {},
   "outputs": [],
   "source": [
    "import pandas as pd\n",
    "from sklearn.model_selection import train_test_split\n",
    "from sklearn import metrics\n",
    "from sklearn.naive_bayes import GaussianNB\n",
    "\n",
    "dataset = pd.read_csv(\"features bigram.csv\", sep=\",\", low_memory=False)\n",
    "\n",
    "y = dataset.Label\n",
    "X = dataset.drop('Label', axis=1)\n",
    "X_train, X_test, y_train, y_test = train_test_split(X, y, test_size=0.2, random_state=42, stratify=y)"
   ]
  },
  {
   "cell_type": "code",
   "execution_count": 8,
   "metadata": {},
   "outputs": [],
   "source": [
    "X_train.to_csv (r'X_train_bigram.csv', index = False, header=True)\n",
    "X_test.to_csv (r'X_test_bigram.csv', index = False, header=True)\n",
    "y_train.to_csv (r'y_train_bigram.csv', index = False, header=True)\n",
    "y_test.to_csv (r'y_test_bigram.csv', index = False, header=True)"
   ]
  }
 ],
 "metadata": {
  "kernelspec": {
   "display_name": "Python 3",
   "language": "python",
   "name": "python3"
  },
  "language_info": {
   "codemirror_mode": {
    "name": "ipython",
    "version": 3
   },
   "file_extension": ".py",
   "mimetype": "text/x-python",
   "name": "python",
   "nbconvert_exporter": "python",
   "pygments_lexer": "ipython3",
   "version": "3.7.4"
  }
 },
 "nbformat": 4,
 "nbformat_minor": 2
}
